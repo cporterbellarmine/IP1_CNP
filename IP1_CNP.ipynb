{
 "cells": [
  {
   "cell_type": "markdown",
   "metadata": {},
   "source": [
    "# Individual Project 1  \n",
    "**Author:** Christina Porter   \n",
    "**Version:** 1.0  \n",
    "**Semester:** Spring 2021  \n",
    "**Summary:**  \n",
    "This is a Python project that accepts a file from the project folder to manipulate and display the data within using Numpy and PrettyTable. The file included within the project documents various parking structures and contains the lot type, the number of levels the lot has, the number of spaces within the lot, and the rate for both day and month parking."
   ]
  },
  {
   "cell_type": "markdown",
   "metadata": {},
   "source": [
    "## Section 1: Imports"
   ]
  },
  {
   "cell_type": "code",
   "execution_count": 10,
   "metadata": {},
   "outputs": [],
   "source": [
    "import csv\n",
    "from prettytable import PrettyTable\n",
    "import numpy as np\n",
    "import statistics"
   ]
  },
  {
   "cell_type": "markdown",
   "metadata": {},
   "source": [
    "## Section 2: Functions"
   ]
  },
  {
   "cell_type": "markdown",
   "metadata": {},
   "source": [
    "**get_data(filename):** This function accepts a .csv file currently in the project directory and uses the csv import to open, read, and place the data within the file into a list."
   ]
  },
  {
   "cell_type": "code",
   "execution_count": 11,
   "metadata": {},
   "outputs": [],
   "source": [
    "def get_data(filename):\n",
    "    \n",
    "    with open(filename, newline='') as csvfile:\n",
    "        datareader = csv.reader(csvfile, delimiter = ',')\n",
    "        datalist = list(datareader)\n",
    "    return datalist  "
   ]
  },
  {
   "cell_type": "markdown",
   "metadata": {},
   "source": [
    "**show_table(listname):** This function accepts a list and places the data included into a PrettyTable."
   ]
  },
  {
   "cell_type": "code",
   "execution_count": 12,
   "metadata": {},
   "outputs": [],
   "source": [
    "def show_table(listname):\n",
    "    table = PrettyTable()\n",
    "    table.field_names = listname[0]\n",
    "    \n",
    "    for i in range(len(listname)-1):\n",
    "        table.add_row(listname[i+1])\n",
    "    return table"
   ]
  },
  {
   "cell_type": "markdown",
   "metadata": {},
   "source": [
    "**count_lot_type(list, lottype):** This function accepts a list and a search term incased in ' '. The function will then search the list for the term provided and count how many times it appears. This is useful for determining how much a specific datapoint appears in the set."
   ]
  },
  {
   "cell_type": "code",
   "execution_count": 13,
   "metadata": {},
   "outputs": [],
   "source": [
    "def count_lot_type(listname, lottype):\n",
    "    counter = 0\n",
    "    for i in range(len(listname)):\n",
    "        for j in range(len(listname[i])):\n",
    "            if listname[i][j] == lottype:\n",
    "                counter += 1\n",
    "    finaltuple = (lottype, counter)\n",
    "    return finaltuple"
   ]
  },
  {
   "cell_type": "markdown",
   "metadata": {},
   "source": [
    "**get_column_stats(listname, columnnumber):** This function accepts a list and a specific column within your data (as shown in the PrettyTable) that contains quantitative data to calculate various var-stats including the min, max, and mean of the specified data section. This function will then display these values using a PrettyTable. Since this project is specifically formatted in a way that we know which columns include quantitative data in the provided document parking.csv, the search range has been restricted to the 2nd, 3rd, 4th, and 5th columns."
   ]
  },
  {
   "cell_type": "code",
   "execution_count": 14,
   "metadata": {},
   "outputs": [],
   "source": [
    "def get_column_stats(listname, columnnumber):\n",
    "    if columnnumber in [2, 3, 4, 5]:\n",
    "        columnvalues = []\n",
    "        for i in range(len(listname)-1):\n",
    "            number = (float)(listname[i+1][columnnumber])\n",
    "            columnvalues.append(number)\n",
    "            array = np.array(columnvalues)\n",
    "        maxval = max(array)\n",
    "        minval = min(array)\n",
    "        average = round(statistics.mean(array),2)\n",
    "        titles, data = [\"\",\"Max\",\"Min\",\"Avg\"], [listname[0][columnnumber], maxval, minval, average]\n",
    "        table2 = PrettyTable()\n",
    "        table2.field_names = titles\n",
    "        table2.add_row(data)\n",
    "        return table2\n",
    "    else:\n",
    "        return \"Invalid column.\""
   ]
  },
  {
   "cell_type": "markdown",
   "metadata": {},
   "source": [
    "## Section 3: Implementing Functions"
   ]
  },
  {
   "cell_type": "markdown",
   "metadata": {},
   "source": [
    "### 3.1: Initializing our Data"
   ]
  },
  {
   "cell_type": "markdown",
   "metadata": {},
   "source": [
    "First, we need to convert the data included in the file to a list."
   ]
  },
  {
   "cell_type": "code",
   "execution_count": 15,
   "metadata": {},
   "outputs": [],
   "source": [
    "datalist = get_data('parking.csv')"
   ]
  },
  {
   "cell_type": "markdown",
   "metadata": {},
   "source": [
    "Now, we can print our datalist to ensure that it initialized properly. Note that each row of our csv document is processed as a separate sublist."
   ]
  },
  {
   "cell_type": "code",
   "execution_count": 16,
   "metadata": {},
   "outputs": [
    {
     "name": "stdout",
     "output_type": "stream",
     "text": [
      "[['OBJECTID', 'TYPE_FAC', 'LEVELS', 'TOTAL_SPCS', 'DAY_RATE', 'MONTH_RATE'], ['1', 'SURFACE LOT', '0', '17', '0', '55'], ['2', 'SURFACE LOT', '0', '310', '4', '70'], ['3', 'GARAGE', '2', '150', '15', '0'], ['4', 'SURFACE LOT', '0', '276', '2', '45'], ['5', 'GARAGE', '3', '1252', '5', '75'], ['6', 'GARAGE', '5', '1233', '5', '75'], ['7', 'SURFACE LOT', '0', '567', '0', '35'], ['8', 'SURFACE LOT', '0', '680', '0', '15'], ['9', 'GARAGE', '6', '645', '7', '60'], ['10', 'SURFACE LOT', '0', '92', '5', '45'], ['11', 'GARAGE', '7', '270', '8', '85'], ['12', 'GARAGE', '7', '482', '8', '105'], ['13', 'GARAGE', '9', '420', '6', '95'], ['14', 'GARAGE', '6', '740', '7', '85'], ['15', 'GARAGE', '3', '200', '7', '105'], ['16', 'GARAGE', '4', '516', '12', '0'], ['17', 'SURFACE LOT', '0', '40', '7', '130'], ['18', 'SURFACE LOT', '0', '53', '7', '125'], ['19', 'GARAGE', '9', '772', '7', '85'], ['20', 'SURFACE LOT', '0', '110', '6', '85'], ['21', 'GARAGE', '7', '483', '6', '80'], ['22', 'SURFACE LOT', '0', '53', '5', '70'], ['23', 'GARAGE', '5', '506', '7', '75'], ['24', 'GARAGE', '6', '384', '6', '70'], ['25', 'GARAGE', '5', '1235', '7', '75'], ['26', 'GARAGE', '6', '560', '7', '90'], ['27', 'SURFACE LOT', '0', '29', '0', '65'], ['28', 'SURFACE LOT', '0', '76', '0', '50'], ['29', 'SURFACE LOT', '0', '32', '0', '60'], ['30', 'GARAGE', '3', '416', '16', '65'], ['31', 'GARAGE', '8', '654', '7', '85'], ['32', 'GARAGE', '1', '85', '15', '150'], ['33', 'SURFACE LOT', '0', '15', '0', '85'], ['34', 'SURFACE LOT', '0', '177', '7', '120'], ['35', 'SURFACE LOT', '0', '244', '0', '65'], ['36', 'SURFACE LOT', '0', '117', '5.25', '0'], ['37', 'GARAGE', '4', '500', '4', '55'], ['38', 'GARAGE', '3', '220', '0', '50'], ['39', 'SURFACE LOT', '0', '17', '4', '0'], ['40', 'GARAGE', '6', '291', '7', '78'], ['41', 'SURFACE LOT', '0', '46', '5', '80'], ['42', 'SURFACE LOT', '0', '26', '4', '0'], ['43', 'SURFACE LOT', '0', '127', '4', '70'], ['44', 'SURFACE LOT', '0', '75', '4', '75'], ['45', 'SURFACE LOT', '0', '81', '8', '90'], ['46', 'SURFACE LOT', '0', '129', '4', '80'], ['47', 'SURFACE LOT', '0', '120', '5', '65'], ['48', 'GARAGE', '5', '1355', '5', '45'], ['49', 'SURFACE LOT', '0', '38', '3.5', '65'], ['50', 'GARAGE', '3', '126', '4', '70'], ['51', 'GARAGE', '5', '494', '12', '80'], ['52', 'SURFACE LOT', '0', '62', '5.5', '80'], ['53', 'SURFACE LOT', '0', '82', '4', '59'], ['54', 'SURFACE LOT', '0', '46', '3', '55'], ['55', 'SURFACE LOT', '0', '110', '3', '55'], ['56', 'SURFACE LOT', '0', '78', '3', '55'], ['57', 'SURFACE LOT', '0', '76', '2', '30'], ['58', 'GARAGE', '4', '330', '0', '45'], ['59', 'SURFACE LOT', '0', '108', '2.25', '45'], ['60', 'SURFACE LOT', '0', '168', '4', '70'], ['61', 'GARAGE', '5', '253', '3', '45'], ['62', 'SURFACE LOT', '0', '163', '2.5', '50'], ['63', 'SURFACE LOT', '0', '154', '1', '17.5'], ['64', 'SURFACE LOT', '0', '154', '1', '17.5'], ['65', 'SURFACE LOT', '0', '21', '0', '20'], ['66', 'GARAGE', '6', '962', '12', '75'], ['67', 'GARAGE', '2', '341', '7', '95'], ['68', 'GARAGE', '3', '1925', '12', '90'], ['69', 'GARAGE', '4', '450', '7', '85'], ['70', 'GARAGE', '9', '731', '10', '85'], ['71', 'GARAGE', '9', '534', '7', '90'], ['72', 'GARAGE', '5', '671', '7', '80'], ['73', 'SURFACE LOT', '0', '276', '2', '45'], ['74', 'GARAGE', '4', '701', '8', '80'], ['75', 'SURFACE LOT', '0', '33', '2', '30'], ['76', 'GARAGE', '6', '789', '0', '130'], ['77', 'GARAGE', '1', '410', '9', '85'], ['78', 'GARAGE', '2', '700', '9', '85'], ['79', 'SURFACE LOT', '0', '72', '0', '60'], ['80', 'SURFACE LOT', '0', '65', '0', '60'], ['81', 'SURFACE LOT', '0', '47', '0', '60'], ['82', 'SURFACE LOT', '0', '40', '5', '70'], ['83', 'SURFACE LOT', '0', '71', '5.5', '85'], ['84', 'SURFACE LOT', '0', '70', '4', '85'], ['85', 'SURFACE LOT', '0', '252', '0', '50'], ['86', 'SURFACE LOT', '0', '94', '5', '59'], ['87', 'SURFACE LOT', '0', '62', '9', '0'], ['88', 'GARAGE', '1', '27', '9', '0'], ['89', 'SURFACE LOT', '0', '22', '5', '80'], ['90', 'SURFACE LOT', '0', '120', '5', '80'], ['91', 'SURFACE LOT', '0', '46', '5', '80'], ['92', 'SURFACE LOT', '0', '46', '2', '0'], ['93', 'SURFACE LOT', '0', '155', '2', '35'], ['94', 'SURFACE LOT', '0', '37', '1', '20'], ['95', 'SURFACE LOT', '0', '69', '0', '20'], ['96', 'SURFACE LOT', '0', '103', '0', '65']]\n"
     ]
    }
   ],
   "source": [
    "print(datalist)"
   ]
  },
  {
   "cell_type": "markdown",
   "metadata": {},
   "source": [
    "Now, we can use the show_table function to display our data in a table for easy viewing. We can also use the count_lot_type function and get_column_stats function on columns 2, 3, 4, and 5."
   ]
  },
  {
   "cell_type": "code",
   "execution_count": 17,
   "metadata": {},
   "outputs": [
    {
     "name": "stdout",
     "output_type": "stream",
     "text": [
      "+----------+-------------+--------+------------+----------+------------+\n",
      "| OBJECTID |   TYPE_FAC  | LEVELS | TOTAL_SPCS | DAY_RATE | MONTH_RATE |\n",
      "+----------+-------------+--------+------------+----------+------------+\n",
      "|    1     | SURFACE LOT |   0    |     17     |    0     |     55     |\n",
      "|    2     | SURFACE LOT |   0    |    310     |    4     |     70     |\n",
      "|    3     |    GARAGE   |   2    |    150     |    15    |     0      |\n",
      "|    4     | SURFACE LOT |   0    |    276     |    2     |     45     |\n",
      "|    5     |    GARAGE   |   3    |    1252    |    5     |     75     |\n",
      "|    6     |    GARAGE   |   5    |    1233    |    5     |     75     |\n",
      "|    7     | SURFACE LOT |   0    |    567     |    0     |     35     |\n",
      "|    8     | SURFACE LOT |   0    |    680     |    0     |     15     |\n",
      "|    9     |    GARAGE   |   6    |    645     |    7     |     60     |\n",
      "|    10    | SURFACE LOT |   0    |     92     |    5     |     45     |\n",
      "|    11    |    GARAGE   |   7    |    270     |    8     |     85     |\n",
      "|    12    |    GARAGE   |   7    |    482     |    8     |    105     |\n",
      "|    13    |    GARAGE   |   9    |    420     |    6     |     95     |\n",
      "|    14    |    GARAGE   |   6    |    740     |    7     |     85     |\n",
      "|    15    |    GARAGE   |   3    |    200     |    7     |    105     |\n",
      "|    16    |    GARAGE   |   4    |    516     |    12    |     0      |\n",
      "|    17    | SURFACE LOT |   0    |     40     |    7     |    130     |\n",
      "|    18    | SURFACE LOT |   0    |     53     |    7     |    125     |\n",
      "|    19    |    GARAGE   |   9    |    772     |    7     |     85     |\n",
      "|    20    | SURFACE LOT |   0    |    110     |    6     |     85     |\n",
      "|    21    |    GARAGE   |   7    |    483     |    6     |     80     |\n",
      "|    22    | SURFACE LOT |   0    |     53     |    5     |     70     |\n",
      "|    23    |    GARAGE   |   5    |    506     |    7     |     75     |\n",
      "|    24    |    GARAGE   |   6    |    384     |    6     |     70     |\n",
      "|    25    |    GARAGE   |   5    |    1235    |    7     |     75     |\n",
      "|    26    |    GARAGE   |   6    |    560     |    7     |     90     |\n",
      "|    27    | SURFACE LOT |   0    |     29     |    0     |     65     |\n",
      "|    28    | SURFACE LOT |   0    |     76     |    0     |     50     |\n",
      "|    29    | SURFACE LOT |   0    |     32     |    0     |     60     |\n",
      "|    30    |    GARAGE   |   3    |    416     |    16    |     65     |\n",
      "|    31    |    GARAGE   |   8    |    654     |    7     |     85     |\n",
      "|    32    |    GARAGE   |   1    |     85     |    15    |    150     |\n",
      "|    33    | SURFACE LOT |   0    |     15     |    0     |     85     |\n",
      "|    34    | SURFACE LOT |   0    |    177     |    7     |    120     |\n",
      "|    35    | SURFACE LOT |   0    |    244     |    0     |     65     |\n",
      "|    36    | SURFACE LOT |   0    |    117     |   5.25   |     0      |\n",
      "|    37    |    GARAGE   |   4    |    500     |    4     |     55     |\n",
      "|    38    |    GARAGE   |   3    |    220     |    0     |     50     |\n",
      "|    39    | SURFACE LOT |   0    |     17     |    4     |     0      |\n",
      "|    40    |    GARAGE   |   6    |    291     |    7     |     78     |\n",
      "|    41    | SURFACE LOT |   0    |     46     |    5     |     80     |\n",
      "|    42    | SURFACE LOT |   0    |     26     |    4     |     0      |\n",
      "|    43    | SURFACE LOT |   0    |    127     |    4     |     70     |\n",
      "|    44    | SURFACE LOT |   0    |     75     |    4     |     75     |\n",
      "|    45    | SURFACE LOT |   0    |     81     |    8     |     90     |\n",
      "|    46    | SURFACE LOT |   0    |    129     |    4     |     80     |\n",
      "|    47    | SURFACE LOT |   0    |    120     |    5     |     65     |\n",
      "|    48    |    GARAGE   |   5    |    1355    |    5     |     45     |\n",
      "|    49    | SURFACE LOT |   0    |     38     |   3.5    |     65     |\n",
      "|    50    |    GARAGE   |   3    |    126     |    4     |     70     |\n",
      "|    51    |    GARAGE   |   5    |    494     |    12    |     80     |\n",
      "|    52    | SURFACE LOT |   0    |     62     |   5.5    |     80     |\n",
      "|    53    | SURFACE LOT |   0    |     82     |    4     |     59     |\n",
      "|    54    | SURFACE LOT |   0    |     46     |    3     |     55     |\n",
      "|    55    | SURFACE LOT |   0    |    110     |    3     |     55     |\n",
      "|    56    | SURFACE LOT |   0    |     78     |    3     |     55     |\n",
      "|    57    | SURFACE LOT |   0    |     76     |    2     |     30     |\n",
      "|    58    |    GARAGE   |   4    |    330     |    0     |     45     |\n",
      "|    59    | SURFACE LOT |   0    |    108     |   2.25   |     45     |\n",
      "|    60    | SURFACE LOT |   0    |    168     |    4     |     70     |\n",
      "|    61    |    GARAGE   |   5    |    253     |    3     |     45     |\n",
      "|    62    | SURFACE LOT |   0    |    163     |   2.5    |     50     |\n",
      "|    63    | SURFACE LOT |   0    |    154     |    1     |    17.5    |\n",
      "|    64    | SURFACE LOT |   0    |    154     |    1     |    17.5    |\n",
      "|    65    | SURFACE LOT |   0    |     21     |    0     |     20     |\n",
      "|    66    |    GARAGE   |   6    |    962     |    12    |     75     |\n",
      "|    67    |    GARAGE   |   2    |    341     |    7     |     95     |\n",
      "|    68    |    GARAGE   |   3    |    1925    |    12    |     90     |\n",
      "|    69    |    GARAGE   |   4    |    450     |    7     |     85     |\n",
      "|    70    |    GARAGE   |   9    |    731     |    10    |     85     |\n",
      "|    71    |    GARAGE   |   9    |    534     |    7     |     90     |\n",
      "|    72    |    GARAGE   |   5    |    671     |    7     |     80     |\n",
      "|    73    | SURFACE LOT |   0    |    276     |    2     |     45     |\n",
      "|    74    |    GARAGE   |   4    |    701     |    8     |     80     |\n",
      "|    75    | SURFACE LOT |   0    |     33     |    2     |     30     |\n",
      "|    76    |    GARAGE   |   6    |    789     |    0     |    130     |\n",
      "|    77    |    GARAGE   |   1    |    410     |    9     |     85     |\n",
      "|    78    |    GARAGE   |   2    |    700     |    9     |     85     |\n",
      "|    79    | SURFACE LOT |   0    |     72     |    0     |     60     |\n",
      "|    80    | SURFACE LOT |   0    |     65     |    0     |     60     |\n",
      "|    81    | SURFACE LOT |   0    |     47     |    0     |     60     |\n",
      "|    82    | SURFACE LOT |   0    |     40     |    5     |     70     |\n",
      "|    83    | SURFACE LOT |   0    |     71     |   5.5    |     85     |\n",
      "|    84    | SURFACE LOT |   0    |     70     |    4     |     85     |\n",
      "|    85    | SURFACE LOT |   0    |    252     |    0     |     50     |\n",
      "|    86    | SURFACE LOT |   0    |     94     |    5     |     59     |\n",
      "|    87    | SURFACE LOT |   0    |     62     |    9     |     0      |\n",
      "|    88    |    GARAGE   |   1    |     27     |    9     |     0      |\n",
      "|    89    | SURFACE LOT |   0    |     22     |    5     |     80     |\n",
      "|    90    | SURFACE LOT |   0    |    120     |    5     |     80     |\n",
      "|    91    | SURFACE LOT |   0    |     46     |    5     |     80     |\n",
      "|    92    | SURFACE LOT |   0    |     46     |    2     |     0      |\n",
      "|    93    | SURFACE LOT |   0    |    155     |    2     |     35     |\n",
      "|    94    | SURFACE LOT |   0    |     37     |    1     |     20     |\n",
      "|    95    | SURFACE LOT |   0    |     69     |    0     |     20     |\n",
      "|    96    | SURFACE LOT |   0    |    103     |    0     |     65     |\n",
      "+----------+-------------+--------+------------+----------+------------+\n"
     ]
    }
   ],
   "source": [
    "print(show_table(datalist))"
   ]
  },
  {
   "cell_type": "code",
   "execution_count": 18,
   "metadata": {},
   "outputs": [
    {
     "name": "stdout",
     "output_type": "stream",
     "text": [
      "('SURFACE LOT', 57)\n"
     ]
    }
   ],
   "source": [
    "print(count_lot_type(datalist,'SURFACE LOT'))"
   ]
  },
  {
   "cell_type": "code",
   "execution_count": 19,
   "metadata": {},
   "outputs": [
    {
     "name": "stdout",
     "output_type": "stream",
     "text": [
      "+------------+--------+------+--------+\n",
      "|            |  Max   | Min  |  Avg   |\n",
      "+------------+--------+------+--------+\n",
      "| TOTAL_SPCS | 1925.0 | 15.0 | 304.81 |\n",
      "+------------+--------+------+--------+\n"
     ]
    }
   ],
   "source": [
    "print(get_column_stats(datalist, 3))"
   ]
  },
  {
   "cell_type": "code",
   "execution_count": null,
   "metadata": {},
   "outputs": [],
   "source": []
  }
 ],
 "metadata": {
  "kernelspec": {
   "display_name": "Python 3",
   "language": "python",
   "name": "python3"
  },
  "language_info": {
   "codemirror_mode": {
    "name": "ipython",
    "version": 3
   },
   "file_extension": ".py",
   "mimetype": "text/x-python",
   "name": "python",
   "nbconvert_exporter": "python",
   "pygments_lexer": "ipython3",
   "version": "3.8.5"
  }
 },
 "nbformat": 4,
 "nbformat_minor": 4
}
